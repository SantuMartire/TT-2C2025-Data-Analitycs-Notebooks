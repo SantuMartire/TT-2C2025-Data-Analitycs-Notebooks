{
  "nbformat": 4,
  "nbformat_minor": 0,
  "metadata": {
    "colab": {
      "provenance": [],
      "include_colab_link": true
    },
    "kernelspec": {
      "name": "python3",
      "display_name": "Python 3"
    },
    "language_info": {
      "name": "python"
    }
  },
  "cells": [
    {
      "cell_type": "markdown",
      "metadata": {
        "id": "view-in-github",
        "colab_type": "text"
      },
      "source": [
        "<a href=\"https://colab.research.google.com/github/SantuMartire/TT-2C2025-Data-Analitycs-Notebooks/blob/main/Clase_1/Clase_1_Actividad_2_Repaso_en_Python.ipynb\" target=\"_parent\"><img src=\"https://colab.research.google.com/assets/colab-badge.svg\" alt=\"Open In Colab\"/></a>"
      ]
    },
    {
      "cell_type": "markdown",
      "source": [
        "#1. Propiedades de Tipos de Datos"
      ],
      "metadata": {
        "id": "sX3HqGZ13I0S"
      }
    },
    {
      "cell_type": "markdown",
      "source": [
        "Repasemos cuáles son los tipos de datos nativos en Python más utilizados."
      ],
      "metadata": {
        "id": "CTS95uKOhYKz"
      }
    },
    {
      "cell_type": "markdown",
      "source": [
        "## Tipos de Datos Simples"
      ],
      "metadata": {
        "id": "5Aqs7e2AIo15"
      }
    },
    {
      "cell_type": "markdown",
      "source": [
        "* **int:** Números enteros. Ejemplo: `x = 5`\n",
        "* **float:** Números de punto flotante. Ejemplo: `y = 3.14`\n",
        "* **str:** Cadenas de texto. Ejemplo: `nombre = \"Alice\"`\n",
        "* **bool:** Valores booleanos (`True`/`False`). texto en negrita"
      ],
      "metadata": {
        "id": "Sqixkjoa_UxI"
      }
    },
    {
      "cell_type": "markdown",
      "source": [
        "## Tipos de Datos Complejos"
      ],
      "metadata": {
        "id": "_O3RXznRBudq"
      }
    },
    {
      "cell_type": "markdown",
      "source": [
        "* **list:** Colección ordenada y mutable. Ejemplo: `lista = [1, 2, 3]`"
      ],
      "metadata": {
        "id": "wdAtFFOyHDlu"
      }
    },
    {
      "cell_type": "code",
      "source": [
        "lista = [1,2,3]\n",
        "lista.append(4)\n",
        "print(lista)"
      ],
      "metadata": {
        "id": "VclutYNhHMEF"
      },
      "execution_count": null,
      "outputs": []
    },
    {
      "cell_type": "markdown",
      "source": [
        "tuple: Colección ordenada e inmutable. Ejemplo: tupla = (1, 2, 3)"
      ],
      "metadata": {
        "id": "twemprTcHu2w"
      }
    },
    {
      "cell_type": "code",
      "source": [
        "tupla = (1, 2, 3)"
      ],
      "metadata": {
        "id": "mSng0xHeHyMZ"
      },
      "execution_count": null,
      "outputs": []
    },
    {
      "cell_type": "markdown",
      "source": [
        "dict: Colección de pares clave-valor. Ejemplo: diccionario = {\"clave1\": \"valor1\", \"clave2\": \"valor2\"}"
      ],
      "metadata": {
        "id": "lU0tlWSIH4JB"
      }
    },
    {
      "cell_type": "code",
      "source": [
        "diccionario = {\"clave1\": \"valor1\", \"clave2\": \"valor2\"}"
      ],
      "metadata": {
        "id": "W5cWwr3mH5UA"
      },
      "execution_count": null,
      "outputs": []
    },
    {
      "cell_type": "markdown",
      "source": [
        "* **set:** Colección desordenada de elementos únicos. Ejemplo: {1, 2, 3}"
      ],
      "metadata": {
        "id": "lOX_Q4OaADgY"
      }
    },
    {
      "cell_type": "code",
      "source": [
        "set = {1,2,3}\n",
        "set.add(4)\n",
        "print(set)\n",
        "set.add(3)\n",
        "print(set)"
      ],
      "metadata": {
        "id": "GkdY3NiBGlu_",
        "outputId": "d6642399-f47f-4cc9-8703-3c14bfa9e7ab",
        "colab": {
          "base_uri": "https://localhost:8080/"
        }
      },
      "execution_count": null,
      "outputs": [
        {
          "output_type": "stream",
          "name": "stdout",
          "text": [
            "{1, 2, 3}\n"
          ]
        }
      ]
    },
    {
      "cell_type": "markdown",
      "source": [
        "* **frozenset:** Colección desordenada de elementos únicos e inmutable. Ejemplo: `frozenset({1, 2, 3})`"
      ],
      "metadata": {
        "id": "ahk5Q9jKHLC7"
      }
    },
    {
      "cell_type": "code",
      "source": [
        "frozenset({1, 2, 3})"
      ],
      "metadata": {
        "id": "NVN1occWHZ-v"
      },
      "execution_count": null,
      "outputs": []
    },
    {
      "cell_type": "code",
      "source": [
        "# Ejercicio de lista\n"
      ],
      "metadata": {
        "id": "l9niXx9qA-fG",
        "colab": {
          "base_uri": "https://localhost:8080/"
        },
        "outputId": "c317f78b-1d9e-41d4-8fa5-8f25cbf72850"
      },
      "execution_count": null,
      "outputs": [
        {
          "output_type": "stream",
          "name": "stdout",
          "text": [
            "texto\n"
          ]
        }
      ]
    },
    {
      "cell_type": "code",
      "source": [
        "# Ejercicio de diccionario\n"
      ],
      "metadata": {
        "id": "7Rgzw9ThdwPC",
        "colab": {
          "base_uri": "https://localhost:8080/"
        },
        "outputId": "8d0d72ce-096c-411c-ae14-91a00ad18e84"
      },
      "execution_count": null,
      "outputs": [
        {
          "output_type": "stream",
          "name": "stdout",
          "text": [
            "Alicia\n"
          ]
        }
      ]
    },
    {
      "cell_type": "markdown",
      "source": [
        "# 2. OPERADORES\n",
        "Son símbolos que se aplican a uno o varios operandos en una expresión o instrucción con el fin de obtener cierto resultado"
      ],
      "metadata": {
        "id": "kJTRrXuu_skK"
      }
    },
    {
      "cell_type": "markdown",
      "source": [
        "###2.1. OPERADORES ARITMÉTICOS"
      ],
      "metadata": {
        "id": "Q1Ort25CB2BG"
      }
    },
    {
      "cell_type": "markdown",
      "metadata": {
        "id": "mHxvXjIJz-LI"
      },
      "source": [
        "\n",
        "- suma +\n",
        "- resta -\n",
        "- multiplicación *\n",
        "- potencia **\n",
        "- división /\n",
        "- división entera //\n",
        "- módulo (resto de la división) %\n",
        "\n",
        "\n"
      ]
    },
    {
      "cell_type": "markdown",
      "source": [
        "###2.2. OPERADORES DE ASIGNACIÓN"
      ],
      "metadata": {
        "id": "F3tEAGjaB3xf"
      }
    },
    {
      "cell_type": "markdown",
      "metadata": {
        "id": "jonq0jC616wM"
      },
      "source": [
        "\n",
        "Dada una variable, puedo asignarle un valor, escribiendo\n",
        "\n",
        "\n",
        "a = 5 # el operador **igual a**\n",
        "\n",
        "\n",
        "a += 4 # toma el valor actual de a y le suma 4 -> ahora vale 9  \n",
        "\n",
        "\n",
        "a -= 3 # toma el valor actual de a y le resta 3 -> ahora vale 6\n",
        "\n",
        "\n",
        "a *= 2 # toma el valor actual de a y lo multiplica por 2 -> 12\n",
        "\n",
        "\n",
        "a /= 3\n",
        "\n",
        "\n",
        "a //=3\n",
        "\n",
        "\n",
        "a %= 3"
      ]
    },
    {
      "cell_type": "markdown",
      "source": [
        "###2.3. OPERADORES RELACIONALES"
      ],
      "metadata": {
        "id": "v5MAeoSuB66_"
      }
    },
    {
      "cell_type": "markdown",
      "metadata": {
        "id": "jbk5FVll4QpA"
      },
      "source": [
        "\n",
        "Devuelven un valor booleano. Se usan para crear los condicionales y poder alterar el flujo de nuestro programa\n",
        "Dados a y b\n",
        "\n",
        "a == b # si son iguales -> Devuelve True o False\n",
        "\n",
        "a != b # a no es igual a b\n",
        "\n",
        "a < b # a es menor que b\n",
        "\n",
        "a > b # a es mayor que b\n",
        "\n",
        "a <= b # a es menor o igual que b\n",
        "\n",
        "a >= b # a es mayor o igual que b\n",
        "\n",
        "\n",
        "\n",
        "\n"
      ]
    },
    {
      "cell_type": "markdown",
      "source": [
        "###2.4. OPERADORES LÓGICOS o BOOLEANOS"
      ],
      "metadata": {
        "id": "J3MSNMX5B9FJ"
      }
    },
    {
      "cell_type": "markdown",
      "metadata": {
        "id": "9XELs8o55mr6"
      },
      "source": [
        "\n",
        "\n",
        "and # evalúa si ambos operandos son True\n",
        "\n",
        "or # evalúa si al menos uno de los operandos es True\n",
        "\n",
        "not # cambia el valor del operando"
      ]
    },
    {
      "cell_type": "markdown",
      "source": [
        "###2.5. OPERADORES DE PERTENENCIA"
      ],
      "metadata": {
        "id": "d5HXiibCB_KL"
      }
    },
    {
      "cell_type": "markdown",
      "source": [
        "\n",
        "\n",
        "Devuelve True o False dependiendo de si un elemento pertenece o no a una secuencia de datos\n",
        "\n",
        "IN\n",
        "\n",
        "NOT IN"
      ],
      "metadata": {
        "id": "tgx2iKtOMx3I"
      }
    },
    {
      "cell_type": "markdown",
      "source": [
        "#Ejercicios"
      ],
      "metadata": {
        "id": "60oMjZhOIhWO"
      }
    },
    {
      "cell_type": "markdown",
      "source": [
        "\n",
        "\n",
        "1.   Elemento de la lista\n",
        "2.   Elemento de la lista\n",
        "\n",
        "\n",
        "1. Crear una lista con varios tipos de datos y acceder a sus elementos.\n"
      ],
      "metadata": {
        "id": "2ptdK6CxA5C9"
      }
    },
    {
      "cell_type": "code",
      "source": [
        "mi_lista = ['Hola', 10, 3.14, True, [1, 2, 3]]\n",
        "print(mi_lista)\n",
        "\n",
        "print(f'El primer elemento es: {mi_lista[0]}') # Accede al primer elemento (índice 0)\n",
        "print(f'El tercer elemento es: {mi_lista[2]}') # Accede al tercer elemento (índice 2)\n",
        "print(f'El último elemento es: {mi_lista[-1]}') # Accede al último elemento (índice -1)\n"
      ],
      "metadata": {
        "id": "66zqNVL1I0Kp",
        "outputId": "fde0e665-d5ca-4427-d4b0-8b0a56407f5b",
        "colab": {
          "base_uri": "https://localhost:8080/"
        }
      },
      "execution_count": 1,
      "outputs": [
        {
          "output_type": "stream",
          "name": "stdout",
          "text": [
            "['Hola', 10, 3.14, True, [1, 2, 3]]\n"
          ]
        }
      ]
    },
    {
      "cell_type": "markdown",
      "source": [
        "2. Crear un diccionario y acceder a sus valores por clave."
      ],
      "metadata": {
        "id": "87XQWhfXI0bZ"
      }
    },
    {
      "cell_type": "code",
      "source": [
        "mi_diccionario = {\n",
        "    'nombre': 'Juan',\n",
        "    'edad': 30,\n",
        "    'ciudad': 'Madrid',\n",
        "    'es_programador': True,\n",
        "    'habilidades': ['Python', 'SQL', 'Git']\n",
        "}\n",
        "\n",
        "print(f'Nombre: {mi_diccionario[\"nombre\"]}') # Accede al valor asociado a la clave 'nombre'\n",
        "print(f'Edad: {mi_diccionario[\"edad\"]}')     # Accede al valor asociado a la clave 'edad'\n",
        "\n"
      ],
      "metadata": {
        "id": "7rPRiH_NI1Ry",
        "outputId": "00fcd39a-98c0-47dc-cb72-aaf90d53b3da",
        "colab": {
          "base_uri": "https://localhost:8080/"
        }
      },
      "execution_count": 3,
      "outputs": [
        {
          "output_type": "stream",
          "name": "stdout",
          "text": [
            "Nombre: Juan\n",
            "Edad: 30\n"
          ]
        }
      ]
    },
    {
      "cell_type": "markdown",
      "source": [
        "3. Generar una lista con los números del 1 al 5. Crear otra lista con el cuadrado y otra con la raíz cuadrada de esos números"
      ],
      "metadata": {
        "id": "MwGerhTNI27W"
      }
    },
    {
      "cell_type": "markdown",
      "source": [],
      "metadata": {
        "id": "w65wgZjTQg01"
      }
    },
    {
      "cell_type": "code",
      "source": [
        "# Importar math y usar metodos pow y sqrt\n",
        "# Importar la librería math para usar sus funciones matemáticas\n",
        "import math\n",
        "\n",
        "# 1. Generar una lista con los números del 1 al 5\n",
        "numeros = list(range(1, 6))\n",
        "print(f\"Lista de números del 1 al 5: {numeros}\")\n",
        "\n",
        "# ---\n",
        "\n",
        "# 2. Crear una lista con el cuadrado de cada número\n",
        "# Se usa un bucle for para iterar sobre la lista 'numeros'\n",
        "cuadrados = []\n",
        "for numero in numeros:\n",
        "    cuadrado = math.pow(numero, 2)\n",
        "    cuadrados.append(int(cuadrado)) # Convertimos a entero para un resultado más limpio\n",
        "\n",
        "print(f\"Lista con los cuadrados de los números: {cuadrados}\")\n",
        "\n",
        "# ---\n",
        "\n",
        "# 3. Crear una lista con la raíz cuadrada de cada número\n",
        "# Se usa otro bucle for para iterar nuevamente\n",
        "raices_cuadradas = []\n",
        "for numero in numeros:\n",
        "    raiz = math.sqrt(numero)\n",
        "    raices_cuadradas.append(raiz)\n",
        "\n",
        "print(f\"Lista con la raíz cuadrada de los números: {raices_cuadradas}\")"
      ],
      "metadata": {
        "id": "S6lg9c_pJAKB",
        "outputId": "8a586107-096a-42ea-c3a3-83378ec1a240",
        "colab": {
          "base_uri": "https://localhost:8080/"
        }
      },
      "execution_count": 4,
      "outputs": [
        {
          "output_type": "stream",
          "name": "stdout",
          "text": [
            "Lista de números del 1 al 5: [1, 2, 3, 4, 5]\n",
            "Lista con los cuadrados de los números: [1, 4, 9, 16, 25]\n",
            "Lista con la raíz cuadrada de los números: [1.0, 1.4142135623730951, 1.7320508075688772, 2.0, 2.23606797749979]\n"
          ]
        }
      ]
    },
    {
      "cell_type": "markdown",
      "source": [
        "4. Encontrar el mínimo y máximo de una lista"
      ],
      "metadata": {
        "id": "wsi5bgD5JSAw"
      }
    },
    {
      "cell_type": "code",
      "source": [
        "# import math\n",
        "numeros = [12, 7, 25, 3, 19]\n",
        "minimo = min(numeros)\n",
        "maximo = max(numeros)\n",
        "print(f'El número mínimo es: {minimo}')\n",
        "print(f'El número máximo es: {maximo}')\n"
      ],
      "metadata": {
        "id": "ktkCApmIJWWw"
      },
      "execution_count": null,
      "outputs": []
    },
    {
      "cell_type": "markdown",
      "source": [
        "5. Calcular el promedio de los números de una lista"
      ],
      "metadata": {
        "id": "BzWAJRt9JZBB"
      }
    },
    {
      "cell_type": "code",
      "source": [
        "# import math\n",
        "notas = [7.5, 8.0, 6.5, 9.0, 10.0]\n",
        "\n",
        "suma = 0\n",
        "for i in range(notas.len()):\n",
        "  suma += notas[i]\n",
        "\n",
        "promedio = suma / len(notas)\n",
        "print(f'El promedio es: {promedio}')\n",
        "#"
      ],
      "metadata": {
        "id": "cG0ml2r4JfwU",
        "outputId": "5beabf6e-0d44-4a5f-8417-26023abe8cf5",
        "colab": {
          "base_uri": "https://localhost:8080/",
          "height": 211
        }
      },
      "execution_count": 10,
      "outputs": [
        {
          "output_type": "error",
          "ename": "AttributeError",
          "evalue": "'list' object has no attribute 'len'",
          "traceback": [
            "\u001b[0;31m---------------------------------------------------------------------------\u001b[0m",
            "\u001b[0;31mAttributeError\u001b[0m                            Traceback (most recent call last)",
            "\u001b[0;32m/tmp/ipython-input-560973835.py\u001b[0m in \u001b[0;36m<cell line: 0>\u001b[0;34m()\u001b[0m\n\u001b[1;32m      3\u001b[0m \u001b[0;34m\u001b[0m\u001b[0m\n\u001b[1;32m      4\u001b[0m \u001b[0msuma\u001b[0m \u001b[0;34m=\u001b[0m \u001b[0;36m0\u001b[0m\u001b[0;34m\u001b[0m\u001b[0;34m\u001b[0m\u001b[0m\n\u001b[0;32m----> 5\u001b[0;31m \u001b[0;32mfor\u001b[0m \u001b[0mi\u001b[0m \u001b[0;32min\u001b[0m \u001b[0mrange\u001b[0m\u001b[0;34m(\u001b[0m\u001b[0mnotas\u001b[0m\u001b[0;34m.\u001b[0m\u001b[0mlen\u001b[0m\u001b[0;34m(\u001b[0m\u001b[0;34m)\u001b[0m\u001b[0;34m)\u001b[0m\u001b[0;34m:\u001b[0m\u001b[0;34m\u001b[0m\u001b[0;34m\u001b[0m\u001b[0m\n\u001b[0m\u001b[1;32m      6\u001b[0m   \u001b[0msuma\u001b[0m \u001b[0;34m+=\u001b[0m \u001b[0mnotas\u001b[0m\u001b[0;34m[\u001b[0m\u001b[0mi\u001b[0m\u001b[0;34m]\u001b[0m\u001b[0;34m\u001b[0m\u001b[0;34m\u001b[0m\u001b[0m\n\u001b[1;32m      7\u001b[0m \u001b[0;34m\u001b[0m\u001b[0m\n",
            "\u001b[0;31mAttributeError\u001b[0m: 'list' object has no attribute 'len'"
          ]
        }
      ]
    }
  ]
}